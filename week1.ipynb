{
 "cells": [
  {
   "cell_type": "markdown",
   "metadata": {},
   "source": [
    "#### Week 1 - Programming Fundamentals\n",
    "- Calculating Area of a Circle"
   ]
  },
  {
   "cell_type": "code",
   "execution_count": 3,
   "metadata": {},
   "outputs": [
    {
     "name": "stdout",
     "output_type": "stream",
     "text": [
      "Area of a cicle  78.5\n"
     ]
    }
   ],
   "source": [
    "radius = 5.0\n",
    "area = radius * radius * 3.14\n",
    "print(\"Area of a cicle \", area)\n"
   ]
  },
  {
   "cell_type": "markdown",
   "metadata": {},
   "source": [
    "- print with multiple items"
   ]
  },
  {
   "cell_type": "code",
   "execution_count": 4,
   "metadata": {},
   "outputs": [
    {
     "name": "stdout",
     "output_type": "stream",
     "text": [
      "Area= 78.5 of circle 5.0\n"
     ]
    }
   ],
   "source": [
    "sum=5+3\n",
    "# print(\"Hello\", 5, 5*4, sum)\n",
    "radius = 5.0\n",
    "# area = radius * radius * 3.14\n",
    "print(\"Area=\",radius * radius * 3.14, \"of circle\", radius)"
   ]
  },
  {
   "cell_type": "markdown",
   "metadata": {},
   "source": [
    "- Assignment statement"
   ]
  },
  {
   "cell_type": "code",
   "execution_count": 11,
   "metadata": {},
   "outputs": [
    {
     "name": "stdout",
     "output_type": "stream",
     "text": [
      "x= 10 y= 12\n"
     ]
    }
   ],
   "source": [
    "# 10 = x\n",
    "x = 10\n",
    "y = x+2\n",
    "print(\"x=\",x, \"y=\", y)"
   ]
  },
  {
   "cell_type": "code",
   "execution_count": null,
   "metadata": {},
   "outputs": [],
   "source": [
    "z=y=x=10\n",
    "print(x,y,z)\n",
    "y=y+2\n",
    "print(x,y,z)\n",
    "x=x+1\n",
    "z=x\n",
    "print(x, y,z)"
   ]
  },
  {
   "cell_type": "markdown",
   "metadata": {},
   "source": [
    "Simultaneous Statement"
   ]
  },
  {
   "cell_type": "code",
   "execution_count": null,
   "metadata": {},
   "outputs": [],
   "source": [
    "x,y,z=10,12,13\n",
    "# print(x,y,z)\n",
    "x,y,z= 10+2, 10**2, 2**3\n",
    "print(x,y,z)\n",
    "x,y=10,12\n",
    "x,y=y,x #swapping using simultaneous assigmnet\n",
    "print(x,y)"
   ]
  },
  {
   "cell_type": "markdown",
   "metadata": {},
   "source": [
    "-Input function"
   ]
  },
  {
   "cell_type": "code",
   "execution_count": null,
   "metadata": {},
   "outputs": [],
   "source": [
    "# r = int(input(\"Enter radius\"))\n",
    "r=\"12\"\n",
    "print(type(r))\n",
    "r=int(r)\n",
    "print(type(r))\n",
    "# print(r*r*3.14)\n",
    "area=int(input(\"Enter value\")) ** 2 * 3.14\n",
    "print(input(\"Enter First name\"), input(\"Second Name\"))"
   ]
  },
  {
   "cell_type": "markdown",
   "metadata": {},
   "source": [
    "- eval() function"
   ]
  },
  {
   "cell_type": "code",
   "execution_count": null,
   "metadata": {},
   "outputs": [],
   "source": [
    "v = eval(\"3\")\n",
    "# print(type(v))\n",
    "v= eval(input(\"Enter value\"))\n",
    "print(type(v))\n",
    "print(v)"
   ]
  },
  {
   "cell_type": "markdown",
   "metadata": {},
   "source": [
    "- Variables / Identifiers"
   ]
  },
  {
   "cell_type": "code",
   "execution_count": null,
   "metadata": {},
   "outputs": [],
   "source": [
    "area=12\n",
    "Area = 13\n",
    "AREA = 14\n",
    "print(area)"
   ]
  },
  {
   "cell_type": "code",
   "execution_count": null,
   "metadata": {},
   "outputs": [],
   "source": [
    "print(7%5)\n",
    "print(5 % 5)\n",
    "print(5 % 7)\n",
    "print(1 % 3)"
   ]
  },
  {
   "cell_type": "markdown",
   "metadata": {},
   "source": [
    "Operator precedence"
   ]
  },
  {
   "cell_type": "code",
   "execution_count": null,
   "metadata": {},
   "outputs": [],
   "source": [
    "print(2**3 / 2 + 3)\n",
    "print(3 + 2**3 / 2 )\n",
    "print(2**3**2)\n"
   ]
  },
  {
   "cell_type": "markdown",
   "metadata": {},
   "source": [
    "Augmented Assignment operators"
   ]
  },
  {
   "cell_type": "code",
   "execution_count": null,
   "metadata": {},
   "outputs": [],
   "source": [
    "a = 10\n",
    "#a=a+1\n",
    "a+=1\n",
    "print(a)"
   ]
  },
  {
   "cell_type": "markdown",
   "metadata": {},
   "source": [
    "Splitting a 3 digit number and add numbers"
   ]
  },
  {
   "cell_type": "code",
   "execution_count": null,
   "metadata": {},
   "outputs": [],
   "source": [
    "n = 235\n",
    "a = n // 100\n",
    "n = n % 100\n",
    "b = n // 10\n",
    "c = n % 10\n",
    "print(a+b+c)\n"
   ]
  },
  {
   "cell_type": "markdown",
   "metadata": {},
   "source": [
    "Mathematics functions"
   ]
  },
  {
   "cell_type": "code",
   "execution_count": null,
   "metadata": {},
   "outputs": [],
   "source": [
    "\n",
    "mx = max(2,4,3)\n",
    "mn = min(2,4,3)\n",
    "ms = 2+4+3\n",
    "mm = ms - (mn + mx)\n",
    "print(mx, mm, mn)"
   ]
  },
  {
   "cell_type": "markdown",
   "metadata": {},
   "source": [
    "ASCII codes"
   ]
  },
  {
   "cell_type": "code",
   "execution_count": null,
   "metadata": {},
   "outputs": [],
   "source": [
    "# print(ord('A'))\n",
    "# print(ord('*'))\n",
    "# print(chr(97))\n",
    "\n",
    "v = 97\n",
    "print(chr(v))\n",
    "v = v-32\n",
    "print(chr(v))\n",
    "v = v+ 1\n",
    "print(chr(v))\n",
    "v = v+1\n",
    "print(chr(v))"
   ]
  },
  {
   "cell_type": "markdown",
   "metadata": {},
   "source": [
    "Escape sequences"
   ]
  },
  {
   "cell_type": "code",
   "execution_count": null,
   "metadata": {},
   "outputs": [],
   "source": [
    "# print(\"Hello\", end=\" *** \")\n",
    "# print(\"World\")\n",
    "\n",
    "print(\"This is, \\\"John's Book\")"
   ]
  },
  {
   "cell_type": "markdown",
   "metadata": {},
   "source": [
    "Strings Concatenation"
   ]
  },
  {
   "cell_type": "code",
   "execution_count": 62,
   "metadata": {},
   "outputs": [
    {
     "name": "stdout",
     "output_type": "stream",
     "text": [
      "Hello World5\n"
     ]
    }
   ],
   "source": [
    "a = \"Hello\"\n",
    "b = \" World\"\n",
    "c = 5\n",
    "print(a+b+str(c))"
   ]
  }
 ],
 "metadata": {
  "kernelspec": {
   "display_name": "base",
   "language": "python",
   "name": "python3"
  },
  "language_info": {
   "codemirror_mode": {
    "name": "ipython",
    "version": 3
   },
   "file_extension": ".py",
   "mimetype": "text/x-python",
   "name": "python",
   "nbconvert_exporter": "python",
   "pygments_lexer": "ipython3",
   "version": "3.12.1"
  }
 },
 "nbformat": 4,
 "nbformat_minor": 2
}
